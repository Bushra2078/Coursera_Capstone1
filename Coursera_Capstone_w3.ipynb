{
    "nbformat_minor": 1, 
    "cells": [
        {
            "execution_count": 11, 
            "cell_type": "code", 
            "metadata": {}, 
            "outputs": [], 
            "source": "import pandas as pd\nimport numpy as np\nimport requests\nfrom bs4 import BeautifulSoup"
        }, 
        {
            "source": "We will be using Beatiful Soup to pull the data from the wikipedia page and tabulate it in useful manner. BS4 package has all what we need from pulling html from website and putting into pandas dataframe. But first we need to set up couple things\n\nWe target the source url that we want to use;then we specify source content to read with bea", 
            "cell_type": "markdown", 
            "metadata": {}
        }, 
        {
            "execution_count": 12, 
            "cell_type": "code", 
            "metadata": {}, 
            "outputs": [], 
            "source": "source = requests.get(\"https://en.wikipedia.org/wiki/List_of_postal_codes_of_Canada:_M\")\nsoup = BeautifulSoup(source.content,'lxml')"
        }, 
        {
            "source": "And we specifically select our table by its html tag and css class name", 
            "cell_type": "markdown", 
            "metadata": {}
        }, 
        {
            "execution_count": 13, 
            "cell_type": "code", 
            "metadata": {}, 
            "outputs": [], 
            "source": "table = soup.find_all('table', class_=\"wikitable sortable\")[0]"
        }, 
        {
            "source": "We create dataframe by reading the table", 
            "cell_type": "markdown", 
            "metadata": {}
        }, 
        {
            "execution_count": 14, 
            "cell_type": "code", 
            "metadata": {}, 
            "outputs": [], 
            "source": "df = pd.read_html(str(table))[0]"
        }, 
        {
            "source": "We set first  to be the headers", 
            "cell_type": "markdown", 
            "metadata": {}
        }, 
        {
            "execution_count": 15, 
            "cell_type": "code", 
            "metadata": {}, 
            "outputs": [], 
            "source": "headers = df.iloc[0]\ndf = pd.DataFrame(df.values[1:], columns=headers)"
        }, 
        {
            "source": "Ignoring not assigned borough cells", 
            "cell_type": "markdown", 
            "metadata": {}
        }, 
        {
            "execution_count": 16, 
            "cell_type": "code", 
            "metadata": {}, 
            "outputs": [], 
            "source": "df = df[df.Borough != 'Not assigned']"
        }, 
        {
            "source": "Group based on postal code, combine neighborhoods in one cell", 
            "cell_type": "markdown", 
            "metadata": {}
        }, 
        {
            "execution_count": 17, 
            "cell_type": "code", 
            "metadata": {}, 
            "outputs": [], 
            "source": "df = df.groupby('Postcode').agg({'Postcode':'first', 'Borough':'first', 'Neighbourhood':', '.join})\n"
        }, 
        {
            "source": "Replace not assigned neighborhood with borough name", 
            "cell_type": "markdown", 
            "metadata": {}
        }, 
        {
            "execution_count": 18, 
            "cell_type": "code", 
            "metadata": {}, 
            "outputs": [], 
            "source": "df['Neighbourhood'] = np.where(df['Neighbourhood'] == 'Not assigned', df['Borough'], df['Neighbourhood'])"
        }, 
        {
            "source": "Making index run from 0 consequentailly", 
            "cell_type": "markdown", 
            "metadata": {}
        }, 
        {
            "execution_count": 19, 
            "cell_type": "code", 
            "metadata": {}, 
            "outputs": [
                {
                    "execution_count": 19, 
                    "metadata": {}, 
                    "data": {
                        "text/html": "<div>\n<style scoped>\n    .dataframe tbody tr th:only-of-type {\n        vertical-align: middle;\n    }\n\n    .dataframe tbody tr th {\n        vertical-align: top;\n    }\n\n    .dataframe thead th {\n        text-align: right;\n    }\n</style>\n<table border=\"1\" class=\"dataframe\">\n  <thead>\n    <tr style=\"text-align: right;\">\n      <th></th>\n      <th>Neighbourhood</th>\n      <th>Borough</th>\n      <th>Postcode</th>\n    </tr>\n  </thead>\n  <tbody>\n    <tr>\n      <th>0</th>\n      <td>Rouge, Malvern</td>\n      <td>Scarborough</td>\n      <td>M1B</td>\n    </tr>\n    <tr>\n      <th>1</th>\n      <td>Highland Creek, Rouge Hill, Port Union</td>\n      <td>Scarborough</td>\n      <td>M1C</td>\n    </tr>\n    <tr>\n      <th>2</th>\n      <td>Guildwood, Morningside, West Hill</td>\n      <td>Scarborough</td>\n      <td>M1E</td>\n    </tr>\n    <tr>\n      <th>3</th>\n      <td>Woburn</td>\n      <td>Scarborough</td>\n      <td>M1G</td>\n    </tr>\n    <tr>\n      <th>4</th>\n      <td>Cedarbrae</td>\n      <td>Scarborough</td>\n      <td>M1H</td>\n    </tr>\n    <tr>\n      <th>5</th>\n      <td>Scarborough Village</td>\n      <td>Scarborough</td>\n      <td>M1J</td>\n    </tr>\n    <tr>\n      <th>6</th>\n      <td>East Birchmount Park, Ionview, Kennedy Park</td>\n      <td>Scarborough</td>\n      <td>M1K</td>\n    </tr>\n    <tr>\n      <th>7</th>\n      <td>Clairlea, Golden Mile, Oakridge</td>\n      <td>Scarborough</td>\n      <td>M1L</td>\n    </tr>\n    <tr>\n      <th>8</th>\n      <td>Cliffcrest, Cliffside, Scarborough Village West</td>\n      <td>Scarborough</td>\n      <td>M1M</td>\n    </tr>\n    <tr>\n      <th>9</th>\n      <td>Birch Cliff, Cliffside West</td>\n      <td>Scarborough</td>\n      <td>M1N</td>\n    </tr>\n  </tbody>\n</table>\n</div>", 
                        "text/plain": "                                     Neighbourhood      Borough Postcode\n0                                   Rouge, Malvern  Scarborough      M1B\n1           Highland Creek, Rouge Hill, Port Union  Scarborough      M1C\n2                Guildwood, Morningside, West Hill  Scarborough      M1E\n3                                           Woburn  Scarborough      M1G\n4                                        Cedarbrae  Scarborough      M1H\n5                              Scarborough Village  Scarborough      M1J\n6      East Birchmount Park, Ionview, Kennedy Park  Scarborough      M1K\n7                  Clairlea, Golden Mile, Oakridge  Scarborough      M1L\n8  Cliffcrest, Cliffside, Scarborough Village West  Scarborough      M1M\n9                      Birch Cliff, Cliffside West  Scarborough      M1N"
                    }, 
                    "output_type": "execute_result"
                }
            ], 
            "source": "df = df.reset_index(drop=True)\ndf.head(10)"
        }, 
        {
            "execution_count": 10, 
            "cell_type": "code", 
            "metadata": {}, 
            "outputs": [
                {
                    "execution_count": 10, 
                    "metadata": {}, 
                    "data": {
                        "text/plain": "(103, 3)"
                    }, 
                    "output_type": "execute_result"
                }
            ], 
            "source": "df.shape"
        }
    ], 
    "metadata": {
        "kernelspec": {
            "display_name": "Python 3.5", 
            "name": "python3", 
            "language": "python"
        }, 
        "language_info": {
            "mimetype": "text/x-python", 
            "nbconvert_exporter": "python", 
            "version": "3.5.5", 
            "name": "python", 
            "file_extension": ".py", 
            "pygments_lexer": "ipython3", 
            "codemirror_mode": {
                "version": 3, 
                "name": "ipython"
            }
        }
    }, 
    "nbformat": 4
}