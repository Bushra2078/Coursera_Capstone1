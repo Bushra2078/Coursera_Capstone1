{
    "nbformat_minor": 1, 
    "cells": [
        {
            "execution_count": 13, 
            "cell_type": "code", 
            "metadata": {}, 
            "outputs": [], 
            "source": "import pandas as pd\nimport numpy as np\nimport requests\nfrom bs4 import BeautifulSoup"
        }, 
        {
            "source": "We will be using Beatiful Soup to pull the data from the wikipedia page and tabulate it in useful manner. BS4 package has all what we need from pulling html from website and putting into pandas dataframe. But first we need to set up couple things\n\nWe target the source url that we want to use;then we specify source content to read with bea", 
            "cell_type": "markdown", 
            "metadata": {}
        }, 
        {
            "execution_count": 14, 
            "cell_type": "code", 
            "metadata": {}, 
            "outputs": [], 
            "source": "source = requests.get(\"https://en.wikipedia.org/wiki/List_of_postal_codes_of_Canada:_M\")\nsoup = BeautifulSoup(source.content,'lxml')"
        }, 
        {
            "source": "And we specifically select our table by its html tag and css class name", 
            "cell_type": "markdown", 
            "metadata": {}
        }, 
        {
            "execution_count": 96, 
            "cell_type": "code", 
            "metadata": {}, 
            "outputs": [], 
            "source": "table = soup.find_all('table', class_=\"wikitable sortable\")[0]"
        }, 
        {
            "source": "We create dataframe by reading the table", 
            "cell_type": "markdown", 
            "metadata": {}
        }, 
        {
            "execution_count": 97, 
            "cell_type": "code", 
            "metadata": {}, 
            "outputs": [], 
            "source": "df = pd.read_html(str(table))[0]"
        }, 
        {
            "source": "We set first  to be the headers", 
            "cell_type": "markdown", 
            "metadata": {}
        }, 
        {
            "execution_count": 98, 
            "cell_type": "code", 
            "metadata": {}, 
            "outputs": [], 
            "source": "headers = df.iloc[0]\ndf = pd.DataFrame(df.values[1:], columns=headers)"
        }, 
        {
            "source": "Ignoring not assigned borough cells", 
            "cell_type": "markdown", 
            "metadata": {}
        }, 
        {
            "execution_count": 99, 
            "cell_type": "code", 
            "metadata": {}, 
            "outputs": [], 
            "source": "df = df[df.Borough != 'Not assigned']"
        }, 
        {
            "source": "Group based on postal code, combine neighborhoods in one cell", 
            "cell_type": "markdown", 
            "metadata": {}
        }, 
        {
            "execution_count": 107, 
            "cell_type": "code", 
            "metadata": {}, 
            "outputs": [], 
            "source": "df = df.groupby('Postcode').agg({'Postcode':'first', 'Borough':'first', 'Neighbourhood':', '.join})\n"
        }, 
        {
            "source": "Replace not assigned neighborhood with borough name", 
            "cell_type": "markdown", 
            "metadata": {}
        }, 
        {
            "execution_count": 108, 
            "cell_type": "code", 
            "metadata": {}, 
            "outputs": [], 
            "source": "df['Neighbourhood'] = np.where(df['Neighbourhood'] == 'Not assigned', df['Borough'], df['Neighbourhood'])"
        }, 
        {
            "source": "Making index run from 0 consequentailly", 
            "cell_type": "markdown", 
            "metadata": {}
        }, 
        {
            "execution_count": 109, 
            "cell_type": "code", 
            "metadata": {}, 
            "outputs": [
                {
                    "execution_count": 109, 
                    "metadata": {}, 
                    "data": {
                        "text/html": "<div>\n<style scoped>\n    .dataframe tbody tr th:only-of-type {\n        vertical-align: middle;\n    }\n\n    .dataframe tbody tr th {\n        vertical-align: top;\n    }\n\n    .dataframe thead th {\n        text-align: right;\n    }\n</style>\n<table border=\"1\" class=\"dataframe\">\n  <thead>\n    <tr style=\"text-align: right;\">\n      <th></th>\n      <th>Borough</th>\n      <th>Postcode</th>\n      <th>Neighbourhood</th>\n    </tr>\n  </thead>\n  <tbody>\n    <tr>\n      <th>0</th>\n      <td>Scarborough</td>\n      <td>M1S</td>\n      <td>Agincourt, Agincourt North, Birch Cliff, Cedar...</td>\n    </tr>\n    <tr>\n      <th>1</th>\n      <td>North York</td>\n      <td>M3H</td>\n      <td>Bathurst Manor, Bayview Village, Bedford Park,...</td>\n    </tr>\n    <tr>\n      <th>2</th>\n      <td>East York</td>\n      <td>M4J</td>\n      <td>East Toronto, Leaside, Parkview Hill, Thorncli...</td>\n    </tr>\n    <tr>\n      <th>3</th>\n      <td>Central Toronto</td>\n      <td>M4S</td>\n      <td>Davisville, Davisville North, Deer Park, Fores...</td>\n    </tr>\n    <tr>\n      <th>4</th>\n      <td>Downtown Toronto</td>\n      <td>M5H</td>\n      <td>Adelaide, Bathurst Quay, Berczy Park, CN Tower...</td>\n    </tr>\n    <tr>\n      <th>5</th>\n      <td>York</td>\n      <td>M6E</td>\n      <td>Caledonia-Fairbanks, Del Ray, Humewood-Cedarva...</td>\n    </tr>\n    <tr>\n      <th>6</th>\n      <td>West Toronto</td>\n      <td>M6K</td>\n      <td>Brockton, Dovercourt Village, Dufferin, Exhibi...</td>\n    </tr>\n    <tr>\n      <th>7</th>\n      <td>Queen's Park</td>\n      <td>M7A</td>\n      <td>Queen's Park</td>\n    </tr>\n    <tr>\n      <th>8</th>\n      <td>Mississauga</td>\n      <td>M7R</td>\n      <td>Canada Post Gateway Processing Centre</td>\n    </tr>\n    <tr>\n      <th>9</th>\n      <td>East Toronto</td>\n      <td>M7Y</td>\n      <td>Business reply mail Processing Centre969 Easte...</td>\n    </tr>\n  </tbody>\n</table>\n</div>", 
                        "text/plain": "            Borough Postcode  \\\n0       Scarborough      M1S   \n1        North York      M3H   \n2         East York      M4J   \n3   Central Toronto      M4S   \n4  Downtown Toronto      M5H   \n5              York      M6E   \n6      West Toronto      M6K   \n7      Queen's Park      M7A   \n8       Mississauga      M7R   \n9      East Toronto      M7Y   \n\n                                       Neighbourhood  \n0  Agincourt, Agincourt North, Birch Cliff, Cedar...  \n1  Bathurst Manor, Bayview Village, Bedford Park,...  \n2  East Toronto, Leaside, Parkview Hill, Thorncli...  \n3  Davisville, Davisville North, Deer Park, Fores...  \n4  Adelaide, Bathurst Quay, Berczy Park, CN Tower...  \n5  Caledonia-Fairbanks, Del Ray, Humewood-Cedarva...  \n6  Brockton, Dovercourt Village, Dufferin, Exhibi...  \n7                                       Queen's Park  \n8              Canada Post Gateway Processing Centre  \n9  Business reply mail Processing Centre969 Easte...  "
                    }, 
                    "output_type": "execute_result"
                }
            ], 
            "source": "df = df.reset_index(drop=True)\ndf.head(10)"
        }, 
        {
            "execution_count": 110, 
            "cell_type": "code", 
            "metadata": {}, 
            "outputs": [
                {
                    "execution_count": 110, 
                    "metadata": {}, 
                    "data": {
                        "text/plain": "(11, 3)"
                    }, 
                    "output_type": "execute_result"
                }
            ], 
            "source": "df.shape"
        }, 
        {
            "source": "Use the BeautifulSoup package to transform the data in the table on the Wikipedia page into the above pandas dataframe", 
            "cell_type": "markdown", 
            "metadata": {}
        }, 
        {
            "execution_count": 111, 
            "cell_type": "code", 
            "metadata": {}, 
            "outputs": [
                {
                    "ename": "NameError", 
                    "evalue": "name 'body' is not defined", 
                    "traceback": [
                        "\u001b[0;31m---------------------------------------------------------------------------\u001b[0m", 
                        "\u001b[0;31mNameError\u001b[0m                                 Traceback (most recent call last)", 
                        "\u001b[0;32m<ipython-input-111-4fba87a98b98>\u001b[0m in \u001b[0;36m<module>\u001b[0;34m()\u001b[0m\n\u001b[0;32m----> 1\u001b[0;31m \u001b[0mdf_geocode\u001b[0m \u001b[0;34m=\u001b[0m \u001b[0mpd\u001b[0m\u001b[0;34m.\u001b[0m\u001b[0mread_csv\u001b[0m\u001b[0;34m(\u001b[0m\u001b[0mbody\u001b[0m\u001b[0;34m)\u001b[0m\u001b[0;34m\u001b[0m\u001b[0m\n\u001b[0m\u001b[1;32m      2\u001b[0m \u001b[0mdf_geocode\u001b[0m\u001b[0;34m.\u001b[0m\u001b[0mhead\u001b[0m\u001b[0;34m(\u001b[0m\u001b[0;36m10\u001b[0m\u001b[0;34m)\u001b[0m\u001b[0;34m\u001b[0m\u001b[0m\n", 
                        "\u001b[0;31mNameError\u001b[0m: name 'body' is not defined"
                    ], 
                    "output_type": "error"
                }
            ], 
            "source": "df_geocode = pd.read_csv(body)\ndf_geocode.head(10)"
        }, 
        {
            "execution_count": null, 
            "cell_type": "code", 
            "metadata": {}, 
            "outputs": [], 
            "source": ""
        }
    ], 
    "metadata": {
        "kernelspec": {
            "display_name": "Python 3.5", 
            "name": "python3", 
            "language": "python"
        }, 
        "language_info": {
            "mimetype": "text/x-python", 
            "nbconvert_exporter": "python", 
            "version": "3.5.5", 
            "name": "python", 
            "file_extension": ".py", 
            "pygments_lexer": "ipython3", 
            "codemirror_mode": {
                "version": 3, 
                "name": "ipython"
            }
        }
    }, 
    "nbformat": 4
}