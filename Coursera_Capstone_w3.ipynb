{
    "nbformat_minor": 1, 
    "cells": [
        {
            "execution_count": 13, 
            "cell_type": "code", 
            "metadata": {}, 
            "outputs": [], 
            "source": "import pandas as pd\nimport numpy as np\nimport requests\nfrom bs4 import BeautifulSoup"
        }, 
        {
            "source": "We will be using Beatiful Soup to pull the data from the wikipedia page and tabulate it in useful manner. BS4 package has all what we need from pulling html from website and putting into pandas dataframe. But first we need to set up couple things\n\nWe target the source url that we want to use;then we specify source content to read with bea", 
            "cell_type": "markdown", 
            "metadata": {}
        }, 
        {
            "execution_count": 14, 
            "cell_type": "code", 
            "metadata": {}, 
            "outputs": [], 
            "source": "source = requests.get(\"https://en.wikipedia.org/wiki/List_of_postal_codes_of_Canada:_M\")\nsoup = BeautifulSoup(source.content,'lxml')"
        }, 
        {
            "source": "And we specifically select our table by its html tag and css class name", 
            "cell_type": "markdown", 
            "metadata": {}
        }, 
        {
            "execution_count": 96, 
            "cell_type": "code", 
            "metadata": {}, 
            "outputs": [], 
            "source": "table = soup.find_all('table', class_=\"wikitable sortable\")[0]"
        }, 
        {
            "source": "We create dataframe by reading the table", 
            "cell_type": "markdown", 
            "metadata": {}
        }, 
        {
            "execution_count": 97, 
            "cell_type": "code", 
            "metadata": {}, 
            "outputs": [], 
            "source": "df = pd.read_html(str(table))[0]"
        }, 
        {
            "source": "We set first  to be the headers", 
            "cell_type": "markdown", 
            "metadata": {}
        }, 
        {
            "execution_count": 98, 
            "cell_type": "code", 
            "metadata": {}, 
            "outputs": [], 
            "source": "headers = df.iloc[0]\ndf = pd.DataFrame(df.values[1:], columns=headers)"
        }, 
        {
            "source": "Ignoring not assigned borough cells", 
            "cell_type": "markdown", 
            "metadata": {}
        }, 
        {
            "execution_count": 99, 
            "cell_type": "code", 
            "metadata": {}, 
            "outputs": [], 
            "source": "df = df[df.Borough != 'Not assigned']"
        }, 
        {
            "source": "Group based on postal code, combine neighborhoods in one cell", 
            "cell_type": "markdown", 
            "metadata": {}
        }, 
        {
            "execution_count": 103, 
            "cell_type": "code", 
            "metadata": {}, 
            "outputs": [], 
            "source": "#df = df.groupby('Postcode').agg({'Postcode':'first', 'Borough':'first', 'Neighbourhood':', '.join})\ndf = df.groupby('Borough').agg({'Postcode':'first', 'Borough':'first', 'Neighbourhood':', '.join})"
        }, 
        {
            "source": "Replace not assigned neighborhood with borough name", 
            "cell_type": "markdown", 
            "metadata": {}
        }, 
        {
            "execution_count": 104, 
            "cell_type": "code", 
            "metadata": {}, 
            "outputs": [], 
            "source": "df['Neighbourhood'] = np.where(df['Neighbourhood'] == 'Not assigned', df['Borough'], df['Neighbourhood'])"
        }, 
        {
            "source": "Making index run from 0 consequentailly", 
            "cell_type": "markdown", 
            "metadata": {}
        }, 
        {
            "execution_count": 105, 
            "cell_type": "code", 
            "metadata": {}, 
            "outputs": [
                {
                    "execution_count": 105, 
                    "metadata": {}, 
                    "data": {
                        "text/html": "<div>\n<style scoped>\n    .dataframe tbody tr th:only-of-type {\n        vertical-align: middle;\n    }\n\n    .dataframe tbody tr th {\n        vertical-align: top;\n    }\n\n    .dataframe thead th {\n        text-align: right;\n    }\n</style>\n<table border=\"1\" class=\"dataframe\">\n  <thead>\n    <tr style=\"text-align: right;\">\n      <th></th>\n      <th>Borough</th>\n      <th>Postcode</th>\n      <th>Neighbourhood</th>\n    </tr>\n  </thead>\n  <tbody>\n    <tr>\n      <th>0</th>\n      <td>Central Toronto</td>\n      <td>M4S</td>\n      <td>Davisville, Davisville North, Deer Park, Fores...</td>\n    </tr>\n    <tr>\n      <th>1</th>\n      <td>Downtown Toronto</td>\n      <td>M5H</td>\n      <td>Adelaide, Bathurst Quay, Berczy Park, CN Tower...</td>\n    </tr>\n    <tr>\n      <th>2</th>\n      <td>East Toronto</td>\n      <td>M7Y</td>\n      <td>Business reply mail Processing Centre969 Easte...</td>\n    </tr>\n    <tr>\n      <th>3</th>\n      <td>East York</td>\n      <td>M4J</td>\n      <td>East Toronto, Leaside, Parkview Hill, Thorncli...</td>\n    </tr>\n    <tr>\n      <th>4</th>\n      <td>Etobicoke</td>\n      <td>M9V</td>\n      <td>Albion Gardens, Alderwood, Beaumond Heights, B...</td>\n    </tr>\n    <tr>\n      <th>5</th>\n      <td>Mississauga</td>\n      <td>M7R</td>\n      <td>Canada Post Gateway Processing Centre</td>\n    </tr>\n    <tr>\n      <th>6</th>\n      <td>North York</td>\n      <td>M3H</td>\n      <td>Bathurst Manor, Bayview Village, Bedford Park,...</td>\n    </tr>\n    <tr>\n      <th>7</th>\n      <td>Queen's Park</td>\n      <td>M7A</td>\n      <td>Queen's Park</td>\n    </tr>\n    <tr>\n      <th>8</th>\n      <td>Scarborough</td>\n      <td>M1S</td>\n      <td>Agincourt, Agincourt North, Birch Cliff, Cedar...</td>\n    </tr>\n    <tr>\n      <th>9</th>\n      <td>West Toronto</td>\n      <td>M6K</td>\n      <td>Brockton, Dovercourt Village, Dufferin, Exhibi...</td>\n    </tr>\n  </tbody>\n</table>\n</div>", 
                        "text/plain": "            Borough Postcode  \\\n0   Central Toronto      M4S   \n1  Downtown Toronto      M5H   \n2      East Toronto      M7Y   \n3         East York      M4J   \n4         Etobicoke      M9V   \n5       Mississauga      M7R   \n6        North York      M3H   \n7      Queen's Park      M7A   \n8       Scarborough      M1S   \n9      West Toronto      M6K   \n\n                                       Neighbourhood  \n0  Davisville, Davisville North, Deer Park, Fores...  \n1  Adelaide, Bathurst Quay, Berczy Park, CN Tower...  \n2  Business reply mail Processing Centre969 Easte...  \n3  East Toronto, Leaside, Parkview Hill, Thorncli...  \n4  Albion Gardens, Alderwood, Beaumond Heights, B...  \n5              Canada Post Gateway Processing Centre  \n6  Bathurst Manor, Bayview Village, Bedford Park,...  \n7                                       Queen's Park  \n8  Agincourt, Agincourt North, Birch Cliff, Cedar...  \n9  Brockton, Dovercourt Village, Dufferin, Exhibi...  "
                    }, 
                    "output_type": "execute_result"
                }
            ], 
            "source": "df = df.reset_index(drop=True)\ndf.head(10)"
        }, 
        {
            "execution_count": 106, 
            "cell_type": "code", 
            "metadata": {}, 
            "outputs": [
                {
                    "execution_count": 106, 
                    "metadata": {}, 
                    "data": {
                        "text/plain": "(11, 3)"
                    }, 
                    "output_type": "execute_result"
                }
            ], 
            "source": "df.shape"
        }, 
        {
            "execution_count": null, 
            "cell_type": "code", 
            "metadata": {}, 
            "outputs": [], 
            "source": ""
        }, 
        {
            "execution_count": null, 
            "cell_type": "code", 
            "metadata": {}, 
            "outputs": [], 
            "source": ""
        }
    ], 
    "metadata": {
        "kernelspec": {
            "display_name": "Python 3.5", 
            "name": "python3", 
            "language": "python"
        }, 
        "language_info": {
            "mimetype": "text/x-python", 
            "nbconvert_exporter": "python", 
            "version": "3.5.5", 
            "name": "python", 
            "file_extension": ".py", 
            "pygments_lexer": "ipython3", 
            "codemirror_mode": {
                "version": 3, 
                "name": "ipython"
            }
        }
    }, 
    "nbformat": 4
}